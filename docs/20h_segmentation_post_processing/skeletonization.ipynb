{
 "cells": [
  {
   "cell_type": "markdown",
   "metadata": {},
   "source": [
    "# Binary Image Skeletonization\n",
    "\n",
    "This notebook demonstrates basic binary image skeletonization using Python libraries.\n",
    "\n",
    "## Introduction\n",
    "Skeletonization reduces binary objects in an image to their essential lines, preserving the structure and connectivity, allowing for further analysis of the shapes and structures.\n"
   ]
  },
  {
   "cell_type": "code",
   "execution_count": null,
   "metadata": {},
   "outputs": [],
   "source": [
    "# Import necessary libraries\n",
    "import matplotlib.pyplot as plt\n",
    "from skimage import data, filters, morphology, color\n"
   ]
  },
  {
   "cell_type": "markdown",
   "metadata": {},
   "source": [
    "## Load and preprocess the image\n",
    "We'll use a sample image from `skimage.data` and convert it to binary form for demonstration."
   ]
  },
  {
   "cell_type": "code",
   "execution_count": null,
   "metadata": {},
   "outputs": [],
   "source": [
    "# Load sample image\n",
    "image = color.rgb2gray(data.horse())  # Sample binary image\n",
    "\n",
    "# Apply threshold to convert to binary image\n",
    "binary_image = image < filters.threshold_otsu(image)\n",
    "\n",
    "# Plot original and binary images\n",
    "fig, ax = plt.subplots(1, 2, figsize=(8, 4))\n",
    "ax[0].imshow(image, cmap='gray')\n",
    "ax[0].set_title('Original Image')\n",
    "ax[1].imshow(binary_image, cmap='gray')\n",
    "ax[1].set_title('Binary Image')\n",
    "plt.show()\n"
   ]
  },
  {
   "cell_type": "markdown",
   "metadata": {},
   "source": [
    "## Perform Skeletonization\n",
    "We'll use the `skeletonize` function from `skimage.morphology` to perform skeletonization on the binary image."
   ]
  },
  {
   "cell_type": "code",
   "execution_count": null,
   "metadata": {},
   "outputs": [],
   "source": [
    "# Perform skeletonization\n",
    "skeleton = morphology.skeletonize(binary_image)\n",
    "\n",
    "# Plot skeletonized image\n",
    "plt.figure(figsize=(4, 4))\n",
    "plt.imshow(skeleton, cmap='gray')\n",
    "plt.title('Skeletonized Image')\n",
    "plt.show()\n"
   ]
  }
 ],
 "metadata": {
  "kernelspec": {
   "display_name": "Python 3",
   "language": "python",
   "name": "python3"
  },
  "language_info": {
   "codemirror_mode": {
    "name": "ipython",
    "version": 3
   },
   "file_extension": ".py",
   "mimetype": "text/x-python",
   "name": "python",
   "nbconvert_exporter": "python",
   "pygments_lexer": "ipython3",
   "version": "3.8.5"
  }
 },
 "nbformat": 4,
 "nbformat_minor": 5
}
