{
 "cells": [
  {
   "cell_type": "markdown",
   "metadata": {},
   "source": [
    "# Demonstrating the Use of `zip` for Processing Paired Image and Mask Folders\n",
    "In this notebook, we will use the Python built-in function `zip` to iterate over paired folders of images and label masks. Specifically, we will process images and their corresponding masks from the following directories:\n",
    "* `data/BBBC007/images`\n",
    "* `data/BBBC007/masks`\n",
    "\n",
    "We'll calculate the average intensity of labeled objects and the number of objects in each pair of image and mask files, and store the results in a pandas DataFrame."
   ]
  },
  {
   "cell_type": "code",
   "execution_count": null,
   "metadata": {},
   "outputs": [],
   "source": [
    "import os\n",
    "import pandas as pd\n",
    "from skimage import io, measure\n",
    "\n",
    "# Define paths\n",
    "image_folder = 'data/BBBC007/images'\n",
    "mask_folder = 'data/BBBC007/masks'\n",
    "\n",
    "# Fetch file names\n",
    "image_files = sorted(os.listdir(image_folder))\n",
    "mask_files = sorted(os.listdir(mask_folder))\n",
    "\n",
    "# Initialize a DataFrame to store results\n",
    "results = pd.DataFrame(columns=['Image', 'Average Intensity', 'Number of Objects'])\n",
    "\n",
    "# Use zip to iterate over image and mask files\n",
    "for image_file, mask_file in zip(image_files, mask_files):\n",
    "    image_path = os.path.join(image_folder, image_file)\n",
    "    mask_path = os.path.join(mask_folder, mask_file)\n",
    "    \n",
    "    # Read the image and its mask\n",
    "    image = io.imread(image_path)\n",
    "    mask = io.imread(mask_path)\n",
    "\n",
    "    # Measure labeled regions\n",
    "    labeled_regions = measure.regionprops(mask, intensity_image=image)\n",
    "\n",
    "    # Calculate average intensity and number of objects\n",
    "    avg_intensity = sum(region.mean_intensity for region in labeled_regions) / len(labeled_regions)\n",
    "    num_objects = len(labeled_regions)\n",
    "\n",
    "    # Append results for the current pair\n",
    "    results = results.append({\n",
    "        'Image': image_file,\n",
    "        'Average Intensity': avg_intensity,\n",
    "        'Number of Objects': num_objects\n",
    "    }, ignore_index=True)\n",
    "\n",
    "# Display the DataFrame\n",
    "results"
   ]
  }
 ],
 "metadata": {
  "kernelspec": {
   "display_name": "Python 3",
   "language": "python",
   "name": "python3"
  },
  "language_info": {
   "codemirror_mode": {
    "name": "ipython",
    "version": 3
   },
   "file_extension": ".py",
   "mimetype": "text/x-python",
   "name": "python",
   "nbconvert_exporter": "python",
   "pygments_lexer": "ipython3",
   "version": "3.9.7"
  }
 },
 "nbformat": 4,
 "nbformat_minor": 5
}
